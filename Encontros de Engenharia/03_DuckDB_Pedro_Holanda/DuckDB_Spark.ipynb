{
  "nbformat": 4,
  "nbformat_minor": 0,
  "metadata": {
    "colab": {
      "private_outputs": true,
      "provenance": []
    },
    "kernelspec": {
      "name": "python3",
      "display_name": "Python 3"
    },
    "language_info": {
      "name": "python"
    }
  },
  "cells": [
    {
      "cell_type": "code",
      "execution_count": null,
      "metadata": {
        "id": "AYhuXCnBr12K"
      },
      "outputs": [],
      "source": [
        "# Instalar bibliotecas e baixar os dados que serão usados neste demo\n",
        "\n",
        "!pip install pyspark\n",
        "\n",
        "!pip uninstall duckdb -y\n",
        "\n",
        "!pip install duckdb\n",
        "\n",
        "!wget \"https://d37ci6vzurychx.cloudfront.net/trip-data/yellow_tripdata_2016-01.parquet\" -O \"tripdata.parquet\"\n",
        "!wget \"https://raw.githubusercontent.com/duckdb/duckdb/main/data/csv/lineitem-carriage.csv\" -O \"lineitem.csv\"\n",
        "!wget \"https://github.com/duckdb/duckdb-data/releases/download/v1.0/example_rn.ndjson\"\n",
        "\n",
        "csv_path = 'lineitem.csv'\n",
        "parquet_path = 'tripdata.parquet'\n",
        "json_path = 'example_rn.ndjson'"
      ]
    },
    {
      "cell_type": "markdown",
      "source": [
        "# Executar SQL Simples"
      ],
      "metadata": {
        "id": "xRRmE573sC8P"
      }
    },
    {
      "cell_type": "code",
      "source": [
        "import duckdb\n",
        "duckdb.sql(\"SELECT 42\").show()"
      ],
      "metadata": {
        "id": "clmFMk7NsHtA"
      },
      "execution_count": null,
      "outputs": []
    },
    {
      "cell_type": "markdown",
      "source": [
        "# De/Para arquivos com dados"
      ],
      "metadata": {
        "id": "3wqfBYRsxvKO"
      }
    },
    {
      "cell_type": "code",
      "source": [
        "# Ler CSV\n",
        "duckdb.from_csv_auto(\"https://raw.githubusercontent.com/duckdb/duckdb/main/data/csv/lineitem-carriage.csv\").show()"
      ],
      "metadata": {
        "id": "SJLiJYjLzuto"
      },
      "execution_count": null,
      "outputs": []
    },
    {
      "cell_type": "code",
      "source": [
        "# Ler Parquet\n",
        "duckdb.from_parquet(parquet_path).show()"
      ],
      "metadata": {
        "id": "JRYxznOc0mJU"
      },
      "execution_count": null,
      "outputs": []
    },
    {
      "cell_type": "code",
      "source": [
        "# Ler Json\n",
        "duckdb.read_json(json_path).show()"
      ],
      "metadata": {
        "id": "ANOEM9IV0rA1"
      },
      "execution_count": null,
      "outputs": []
    },
    {
      "cell_type": "code",
      "source": [
        "# Criar um banco de dados do DuckDB\n",
        "con = duckdb.connect(\"our_db.db\")\n",
        "\n",
        "# Criar tabelas\n",
        "con.execute(f\"CREATE TABLE csv as SELECT * FROM {csv_path}\")\n",
        "con.execute(f\"CREATE TABLE json as SELECT * FROM {json_path}\")\n",
        "con.execute(f\"CREATE TABLE parquet as SELECT * FROM {parquet_path}\")\n",
        "con.close()"
      ],
      "metadata": {
        "id": "Kqo7FP_g0_7Q"
      },
      "execution_count": null,
      "outputs": []
    },
    {
      "cell_type": "code",
      "source": [
        "con = duckdb.connect(\"our_db.db\")\n",
        "\n",
        "csv_rel = con.table(\"csv\")\n",
        "csv_rel.to_csv(\"from_duck.csv\")\n",
        "\n",
        "parquet_rel = con.table(\"parquet\")\n",
        "parquet_rel.to_parquet(\"from_duck.parquet\")"
      ],
      "metadata": {
        "id": "FEi4PAKp3BxS"
      },
      "execution_count": null,
      "outputs": []
    },
    {
      "cell_type": "markdown",
      "source": [
        "# Comparar Performance (Pandas, DuckDB, PySpark)"
      ],
      "metadata": {
        "id": "gup_rgAhYADP"
      }
    },
    {
      "cell_type": "code",
      "source": [
        "import duckdb\n",
        "import pandas\n",
        "import pyspark as spark\n",
        "import time"
      ],
      "metadata": {
        "id": "RSsRjn-nYSQ9"
      },
      "execution_count": null,
      "outputs": []
    },
    {
      "cell_type": "code",
      "source": [
        "con = duckdb.connect()\n",
        "duck_rel = con.from_parquet(\"tripdata.parquet\")\n",
        "print(duck_rel)\n",
        "\n",
        "print(duck_rel.count(\"*\"))"
      ],
      "metadata": {
        "id": "mpqWUny0fUj8"
      },
      "execution_count": null,
      "outputs": []
    },
    {
      "cell_type": "code",
      "source": [
        "def time_function(function):\n",
        "  res = []\n",
        "  for i in range (0,5):\n",
        "    start_time = time.monotonic()\n",
        "    function()\n",
        "    end_time = time.monotonic()\n",
        "    res.append(end_time-start_time)\n",
        "  res.sort()\n",
        "  print (\"Time: \" + str(res[2]))"
      ],
      "metadata": {
        "id": "3dnV4igHhe7W"
      },
      "execution_count": null,
      "outputs": []
    },
    {
      "cell_type": "code",
      "source": [
        "import duckdb\n",
        "\n",
        "def duck_avg():\n",
        "  con = duckdb.connect()\n",
        "  sql = f\"\"\" select passenger_count, avg(tip_amount) as tip_amount from {parquet_path} where trip_distance < 5 group by passenger_count order by passenger_count\"\"\"\n",
        "  return con.execute(sql).df()\n",
        "\n",
        "time_function(duck_avg)\n",
        "\n",
        "result_df = duck_avg()\n",
        "result_df.plot.bar(x=\"passenger_count\", y=\"tip_amount\")"
      ],
      "metadata": {
        "id": "E5Podm0Ohucp"
      },
      "execution_count": null,
      "outputs": []
    },
    {
      "cell_type": "code",
      "source": [
        "import pandas\n",
        "\n",
        "def pandas_avg():\n",
        "  df = pandas.read_parquet(\"tripdata.parquet\")\n",
        "  return df[df['trip_distance'] < 5].groupby(['passenger_count']).agg(\n",
        "      avg_tip=('tip_amount', 'mean')).unstack(level=0)\n",
        "\n",
        "time_function(pandas_avg)\n",
        "\n",
        "result_df = pandas_avg()\n",
        "result_df.plot.bar(x=\"passenger_count\", y=\"tip_amount\")"
      ],
      "metadata": {
        "id": "PGHKu85ahwzU"
      },
      "execution_count": null,
      "outputs": []
    },
    {
      "cell_type": "code",
      "source": [
        "from pyspark.sql import SparkSession\n",
        "from pyspark.sql.functions import avg\n",
        "\n",
        "def spark_avg_from_parquet_sql():\n",
        "  spark=SparkSession.builder.appName(\"PySpark Read Parquet\").getOrCreate()\n",
        "  s_df = spark.read.parquet(parquet_path)\n",
        "  s_df.createOrReplaceTempView(\"yellow_tripdata_2016\")\n",
        "  sql = \"\"\" select passenger_count, avg(tip_amount) as tip_amount from yellow_tripdata_2016\n",
        "  where trip_distance < 5 group by passenger_count order by passenger_count\"\"\"\n",
        "  s_df = spark.sql(sql)\n",
        "  return s_df.toPandas()\n",
        "\n",
        "def spark_avg_from_parquet():\n",
        "  spark=SparkSession.builder.appName(\"PySpark Read Parquet\").getOrCreate()\n",
        "  s_df = spark.read.parquet(parquet_path)\n",
        "  s_df = s_df.filter(s_df.trip_distance < 5) \\\n",
        "    .groupBy(\"passenger_count\") \\\n",
        "    .agg(avg(\"tip_amount\").alias(\"tip_amount\")) \\\n",
        "    .orderBy(\"passenger_count\")\n",
        "  return s_df.toPandas()\n",
        "\n",
        "  s_df = spark.read.parquet(parquet_path)\n",
        "  s_df = s_df.filter(s_df.trip_distance < 5) \\\n",
        "    .groupBy(\"passenger_count\") \\\n",
        "    .agg(avg(\"tip_amount\").alias(\"tip_amount\")) \\\n",
        "    .orderBy(\"passenger_count\")\n",
        "  return s_df.toPandas()\n",
        "\n",
        "time_function(spark_avg_from_parquet)\n",
        "\n",
        "result_df = spark_avg_from_parquet()\n",
        "result_df.plot.bar(x=\"passenger_count\", y=\"tip_amount\")"
      ],
      "metadata": {
        "id": "8-F79pdaiKb-"
      },
      "execution_count": null,
      "outputs": []
    },
    {
      "cell_type": "markdown",
      "source": [
        "# DuckDB - PySpark"
      ],
      "metadata": {
        "id": "D8xQ0X3G2NwJ"
      }
    },
    {
      "cell_type": "code",
      "source": [
        "from duckdb.experimental.spark.sql import SparkSession as session\n",
        "from duckdb.experimental.spark.sql.functions import lit,col, avg"
      ],
      "metadata": {
        "id": "zU2-H8Ev2bBx"
      },
      "execution_count": null,
      "outputs": []
    },
    {
      "cell_type": "code",
      "source": [
        "def duck_spark():\n",
        "  spark = session.builder.getOrCreate()\n",
        "  s_df = spark.read.parquet(parquet_path)\n",
        "  s_df = s_df.filter(s_df.trip_distance < 5) \\\n",
        "    .groupBy(\"passenger_count\") \\\n",
        "    .agg(avg(\"tip_amount\").alias(\"tip_amount\")) \\\n",
        "    .orderBy(\"passenger_count\")\n",
        "  return s_df.toPandas()\n",
        "\n",
        "\n",
        "time_function(duck_spark)\n",
        "\n",
        "result_df = duck_spark()\n",
        "result_df.plot.bar(x=\"passenger_count\", y=\"tip_amount\")"
      ],
      "metadata": {
        "id": "CEhS6v0P3sDq"
      },
      "execution_count": null,
      "outputs": []
    }
  ]
}